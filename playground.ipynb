{
 "cells": [
  {
   "cell_type": "code",
   "execution_count": 1,
   "id": "269d55cd",
   "metadata": {},
   "outputs": [],
   "source": [
    "from gensim.models import Word2Vec\n",
    "model = Word2Vec.load('model.mdl').wv"
   ]
  },
  {
   "cell_type": "code",
   "execution_count": 2,
   "id": "4d5b4714",
   "metadata": {},
   "outputs": [
    {
     "name": "stdout",
     "output_type": "stream",
     "text": [
      "עם index:12 count:913431\n",
      "קטגוריה index:9 count:1313088\n",
      "הוא index:10 count:1212862\n",
      "על index:8 count:2176185\n",
      "את index:7 count:2343481\n"
     ]
    }
   ],
   "source": [
    "for word in u'עם קטגוריה הוא על את'.split():\n",
    "    index = model.get_index(word)\n",
    "    print (word, f\"index:{index}\", f\"count:{model.expandos['count'][index]}\")\n"
   ]
  },
  {
   "cell_type": "code",
   "execution_count": 3,
   "id": "445f667f",
   "metadata": {},
   "outputs": [
    {
     "data": {
      "text/plain": [
       "'#words in model is:341105'"
      ]
     },
     "execution_count": 3,
     "metadata": {},
     "output_type": "execute_result"
    }
   ],
   "source": [
    "f\"#words in model is:{len(model)}\""
   ]
  },
  {
   "cell_type": "code",
   "execution_count": 4,
   "id": "7620c043",
   "metadata": {},
   "outputs": [
    {
     "data": {
      "text/plain": [
       "'#hebrew words in model is:237007'"
      ]
     },
     "execution_count": 4,
     "metadata": {},
     "output_type": "execute_result"
    }
   ],
   "source": [
    "num_hebrew_words=0\n",
    "for i, word in enumerate(model.index_to_key):\n",
    "        if (all(ord('א') <= ord(c) <= ord('ת') for c in word)) or len(word) ==1:\n",
    "            num_hebrew_words+=1\n",
    "f\"#hebrew words in model is:{num_hebrew_words}\""
   ]
  },
  {
   "cell_type": "code",
   "execution_count": 5,
   "id": "69833ffd",
   "metadata": {},
   "outputs": [
    {
     "data": {
      "text/plain": [
       "'עבודה'"
      ]
     },
     "execution_count": 5,
     "metadata": {},
     "output_type": "execute_result"
    }
   ],
   "source": [
    "model.doesnt_match(u'ביבי נתניהו ליכוד עבודה'.split())"
   ]
  },
  {
   "cell_type": "code",
   "execution_count": 6,
   "id": "95efe5bd",
   "metadata": {},
   "outputs": [
    {
     "data": {
      "text/plain": [
       "'טוגנים'"
      ]
     },
     "execution_count": 6,
     "metadata": {},
     "output_type": "execute_result"
    }
   ],
   "source": [
    "model.doesnt_match(u'לילה בוקר ערב צהריים טוגנים'.split())"
   ]
  },
  {
   "cell_type": "code",
   "execution_count": 7,
   "id": "67ce4061",
   "metadata": {},
   "outputs": [
    {
     "data": {
      "text/plain": [
       "'צלחת'"
      ]
     },
     "execution_count": 7,
     "metadata": {},
     "output_type": "execute_result"
    }
   ],
   "source": [
    "model.doesnt_match(u'סוס כלב אריה צלחת ציפור ליוויתן חתול '.split())"
   ]
  },
  {
   "cell_type": "code",
   "execution_count": 8,
   "id": "17e79d7e",
   "metadata": {},
   "outputs": [
    {
     "data": {
      "text/plain": [
       "'אישה'"
      ]
     },
     "execution_count": 8,
     "metadata": {},
     "output_type": "execute_result"
    }
   ],
   "source": [
    "model.most_similar(u'גבר', topn=1)[0][0]"
   ]
  },
  {
   "cell_type": "code",
   "execution_count": 9,
   "id": "d04e10bd",
   "metadata": {},
   "outputs": [
    {
     "data": {
      "text/plain": [
       "'אשה'"
      ]
     },
     "execution_count": 9,
     "metadata": {},
     "output_type": "execute_result"
    }
   ],
   "source": [
    "model.most_similar(u'אישה', topn=1)[0][0]"
   ]
  },
  {
   "cell_type": "code",
   "execution_count": 10,
   "id": "2e8bcb4d",
   "metadata": {},
   "outputs": [
    {
     "data": {
      "text/plain": [
       "0.6933437"
      ]
     },
     "execution_count": 10,
     "metadata": {},
     "output_type": "execute_result"
    }
   ],
   "source": [
    " model.similarity(u'גבר', u'אישה')"
   ]
  },
  {
   "cell_type": "code",
   "execution_count": 11,
   "id": "4c8c1508",
   "metadata": {},
   "outputs": [
    {
     "data": {
      "text/plain": [
       "0.55947655"
      ]
     },
     "execution_count": 11,
     "metadata": {},
     "output_type": "execute_result"
    }
   ],
   "source": [
    "model.similarity(u'ילד', u'אישה')"
   ]
  },
  {
   "cell_type": "code",
   "execution_count": 12,
   "id": "93fd0f82",
   "metadata": {},
   "outputs": [
    {
     "data": {
      "text/plain": [
       "0.5283671"
      ]
     },
     "execution_count": 12,
     "metadata": {},
     "output_type": "execute_result"
    }
   ],
   "source": [
    "model.similarity(u'יפה', u'אישה')"
   ]
  },
  {
   "cell_type": "code",
   "execution_count": 13,
   "id": "d5c77c57",
   "metadata": {},
   "outputs": [
    {
     "data": {
      "text/plain": [
       "0.38273066"
      ]
     },
     "execution_count": 13,
     "metadata": {},
     "output_type": "execute_result"
    }
   ],
   "source": [
    "model.similarity(u'יפה', u'גבר')"
   ]
  },
  {
   "cell_type": "code",
   "execution_count": 14,
   "id": "67da6d32",
   "metadata": {},
   "outputs": [
    {
     "data": {
      "text/plain": [
       "'מלכה'"
      ]
     },
     "execution_count": 14,
     "metadata": {},
     "output_type": "execute_result"
    }
   ],
   "source": [
    "model.most_similar(positive=[u'אישה',u'מלך'], negative=[u'גבר'], topn=1)[0][0]"
   ]
  },
  {
   "cell_type": "code",
   "execution_count": 15,
   "id": "c2e97666",
   "metadata": {},
   "outputs": [
    {
     "data": {
      "text/plain": [
       "'ישראל'"
      ]
     },
     "execution_count": 15,
     "metadata": {},
     "output_type": "execute_result"
    }
   ],
   "source": [
    "model.most_similar(positive=[u'ירושלים',u'גרמניה'], negative=[u'ברלין'], topn=1)[0][0]"
   ]
  },
  {
   "cell_type": "code",
   "execution_count": 16,
   "id": "60d91600",
   "metadata": {},
   "outputs": [
    {
     "data": {
      "text/plain": [
       "'בריטניה'"
      ]
     },
     "execution_count": 16,
     "metadata": {},
     "output_type": "execute_result"
    }
   ],
   "source": [
    "model.most_similar(positive=[u'לונדון',u'גרמניה'], negative=[u'ברלין'], topn=1)[0][0]"
   ]
  },
  {
   "cell_type": "code",
   "execution_count": 17,
   "id": "286dee44",
   "metadata": {},
   "outputs": [
    {
     "data": {
      "text/plain": [
       "'נורווגיה'"
      ]
     },
     "execution_count": 17,
     "metadata": {},
     "output_type": "execute_result"
    }
   ],
   "source": [
    "model.most_similar(positive=[u'אוסלו',u'גרמניה'], negative=[u'ברלין'], topn=1)[0][0]"
   ]
  }
 ],
 "metadata": {
  "kernelspec": {
   "display_name": "Python 3 (ipykernel)",
   "language": "python",
   "name": "python3"
  },
  "language_info": {
   "codemirror_mode": {
    "name": "ipython",
    "version": 3
   },
   "file_extension": ".py",
   "mimetype": "text/x-python",
   "name": "python",
   "nbconvert_exporter": "python",
   "pygments_lexer": "ipython3",
   "version": "3.9.10"
  }
 },
 "nbformat": 4,
 "nbformat_minor": 5
}
